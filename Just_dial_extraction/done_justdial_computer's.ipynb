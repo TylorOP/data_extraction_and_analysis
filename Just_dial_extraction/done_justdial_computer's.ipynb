{
 "cells": [
  {
   "cell_type": "code",
   "execution_count": 3,
   "id": "6bb672af",
   "metadata": {},
   "outputs": [
    {
     "name": "stdout",
     "output_type": "stream",
     "text": [
      "Lists on page 3 have different lengths.\n",
      "Lists on page 4 have different lengths.\n",
      "Lists on page 6 have different lengths.\n",
      "Data saved to computer_repair_services.xlsx\n"
     ]
    }
   ],
   "source": [
    "import requests\n",
    "from bs4 import BeautifulSoup\n",
    "import pandas as pd\n",
    "\n",
    "# Initialize lists to store data\n",
    "name_list = []\n",
    "address_list = []\n",
    "contact_list = []\n",
    "\n",
    "# Loop through multiple pages\n",
    "for page in range(1, 10):  # Scraping up to 10 pages, adjust as needed\n",
    "    url = f'https://www.justdial.com/Pune/Computer-Repair-Services/nct-10890482/page-{page}'\n",
    "    headers = {\n",
    "        'User-Agent': 'Mozilla/5.0 (Windows NT 10.0; Win64; x64) AppleWebKit/537.36 (KHTML, like Gecko) Chrome/116.0.5845.180 Safari/537.36'}\n",
    "    response = requests.get(url, headers=headers)\n",
    "\n",
    "    if response.status_code == 200:\n",
    "        soup = BeautifulSoup(response.text, 'html.parser')\n",
    "\n",
    "        names = soup.find_all(['a', 'div', 'span'], class_={'jsx-3349e7cd87e12d75 resultbox_title_anchor line_clamp_1 font22 fw500 color111'})\n",
    "        address = soup.find_all('div', class_=[\"jsx-3349e7cd87e12d75 font15 fw400 color111\"])\n",
    "        contact = soup.find_all('span', class_='jsx-3349e7cd87e12d75 callcontent callNowAnchor')\n",
    "        \n",
    "\n",
    "        # Check if all lists have the same length\n",
    "        if len(names) == len(address) == len(contact):\n",
    "            name_list.extend([name.text for name in names])\n",
    "            address_list.extend([add.text for add in address])\n",
    "            contact_list.extend([number.text for number in contact])\n",
    "            \n",
    "            \n",
    "        else:\n",
    "            print(f\"Lists on page {page} have different lengths.\")\n",
    "\n",
    "    else:\n",
    "        print(f\"Failed to retrieve page {page}\")\n",
    "\n",
    "# Create a DataFrame from the collected data\n",
    "df = pd.DataFrame({'Names': name_list, 'Address': address_list, 'Contact Number': contact_list})\n",
    "\n",
    "# Save the DataFrame to an Excel file\n",
    "df.to_excel('computer_shop.xlsx', index=False)\n",
    "print(\"Data saved to computer_repair_services.xlsx\")"
   ]
  },
  {
   "cell_type": "code",
   "execution_count": null,
   "id": "a3e79e79",
   "metadata": {},
   "outputs": [],
   "source": []
  }
 ],
 "metadata": {
  "kernelspec": {
   "display_name": "Python 3 (ipykernel)",
   "language": "python",
   "name": "python3"
  },
  "language_info": {
   "codemirror_mode": {
    "name": "ipython",
    "version": 3
   },
   "file_extension": ".py",
   "mimetype": "text/x-python",
   "name": "python",
   "nbconvert_exporter": "python",
   "pygments_lexer": "ipython3",
   "version": "3.9.7"
  }
 },
 "nbformat": 4,
 "nbformat_minor": 5
}
