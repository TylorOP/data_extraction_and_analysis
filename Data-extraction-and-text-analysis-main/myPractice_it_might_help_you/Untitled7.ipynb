{
 "cells": [
  {
   "cell_type": "code",
   "execution_count": 27,
   "id": "a619a5aa",
   "metadata": {},
   "outputs": [],
   "source": [
    "import pandas as pd\n",
    "import numpy as np\n",
    "import requests\n",
    "import nltk\n",
    "import bs4 as bfs\n",
    "from nltk.tokenize import sent_tokenize\n",
    "from nltk.tokenize import word_tokenize\n",
    "from nltk.corpus import stopwords\n",
    "from nltk.tokenize import word_tokenize\n",
    "from nltk.sentiment.vader import SentimentIntensityAnalyzer\n",
    "import string\n",
    "from textblob import TextBlob\n",
    "import csv\n",
    "from openpyxl import Workbook\n",
    "from bs4 import BeautifulSoup"
   ]
  },
  {
   "cell_type": "code",
   "execution_count": 28,
   "id": "5c5ba9d1",
   "metadata": {},
   "outputs": [
    {
     "data": {
      "text/html": [
       "<div>\n",
       "<style scoped>\n",
       "    .dataframe tbody tr th:only-of-type {\n",
       "        vertical-align: middle;\n",
       "    }\n",
       "\n",
       "    .dataframe tbody tr th {\n",
       "        vertical-align: top;\n",
       "    }\n",
       "\n",
       "    .dataframe thead th {\n",
       "        text-align: right;\n",
       "    }\n",
       "</style>\n",
       "<table border=\"1\" class=\"dataframe\">\n",
       "  <thead>\n",
       "    <tr style=\"text-align: right;\">\n",
       "      <th></th>\n",
       "      <th>URL_ID</th>\n",
       "      <th>URL</th>\n",
       "    </tr>\n",
       "  </thead>\n",
       "  <tbody>\n",
       "    <tr>\n",
       "      <th>0</th>\n",
       "      <td>37.0</td>\n",
       "      <td>https://insights.blackcoffer.com/ai-in-healthc...</td>\n",
       "    </tr>\n",
       "    <tr>\n",
       "      <th>1</th>\n",
       "      <td>38.0</td>\n",
       "      <td>https://insights.blackcoffer.com/what-if-the-c...</td>\n",
       "    </tr>\n",
       "    <tr>\n",
       "      <th>2</th>\n",
       "      <td>39.0</td>\n",
       "      <td>https://insights.blackcoffer.com/what-jobs-wil...</td>\n",
       "    </tr>\n",
       "    <tr>\n",
       "      <th>3</th>\n",
       "      <td>40.0</td>\n",
       "      <td>https://insights.blackcoffer.com/will-machine-...</td>\n",
       "    </tr>\n",
       "    <tr>\n",
       "      <th>4</th>\n",
       "      <td>41.0</td>\n",
       "      <td>https://insights.blackcoffer.com/will-ai-repla...</td>\n",
       "    </tr>\n",
       "    <tr>\n",
       "      <th>...</th>\n",
       "      <td>...</td>\n",
       "      <td>...</td>\n",
       "    </tr>\n",
       "    <tr>\n",
       "      <th>109</th>\n",
       "      <td>146.0</td>\n",
       "      <td>https://insights.blackcoffer.com/blockchain-fo...</td>\n",
       "    </tr>\n",
       "    <tr>\n",
       "      <th>110</th>\n",
       "      <td>147.0</td>\n",
       "      <td>https://insights.blackcoffer.com/the-future-of...</td>\n",
       "    </tr>\n",
       "    <tr>\n",
       "      <th>111</th>\n",
       "      <td>148.0</td>\n",
       "      <td>https://insights.blackcoffer.com/big-data-anal...</td>\n",
       "    </tr>\n",
       "    <tr>\n",
       "      <th>112</th>\n",
       "      <td>149.0</td>\n",
       "      <td>https://insights.blackcoffer.com/business-anal...</td>\n",
       "    </tr>\n",
       "    <tr>\n",
       "      <th>113</th>\n",
       "      <td>150.0</td>\n",
       "      <td>https://insights.blackcoffer.com/challenges-an...</td>\n",
       "    </tr>\n",
       "  </tbody>\n",
       "</table>\n",
       "<p>114 rows × 2 columns</p>\n",
       "</div>"
      ],
      "text/plain": [
       "     URL_ID                                                URL\n",
       "0      37.0  https://insights.blackcoffer.com/ai-in-healthc...\n",
       "1      38.0  https://insights.blackcoffer.com/what-if-the-c...\n",
       "2      39.0  https://insights.blackcoffer.com/what-jobs-wil...\n",
       "3      40.0  https://insights.blackcoffer.com/will-machine-...\n",
       "4      41.0  https://insights.blackcoffer.com/will-ai-repla...\n",
       "..      ...                                                ...\n",
       "109   146.0  https://insights.blackcoffer.com/blockchain-fo...\n",
       "110   147.0  https://insights.blackcoffer.com/the-future-of...\n",
       "111   148.0  https://insights.blackcoffer.com/big-data-anal...\n",
       "112   149.0  https://insights.blackcoffer.com/business-anal...\n",
       "113   150.0  https://insights.blackcoffer.com/challenges-an...\n",
       "\n",
       "[114 rows x 2 columns]"
      ]
     },
     "execution_count": 28,
     "metadata": {},
     "output_type": "execute_result"
    }
   ],
   "source": [
    "df = pd.read_excel('/Users/thispc/Downloads/20211030 Test Assignment/Input.xlsx')\n",
    "df"
   ]
  },
  {
   "cell_type": "code",
   "execution_count": 29,
   "id": "c03e6e98",
   "metadata": {},
   "outputs": [
    {
     "data": {
      "text/plain": [
       "['https://insights.blackcoffer.com/ai-in-healthcare-to-improve-patient-outcomes/',\n",
       " 'https://insights.blackcoffer.com/what-if-the-creation-is-taking-over-the-creator/',\n",
       " 'https://insights.blackcoffer.com/what-jobs-will-robots-take-from-humans-in-the-future/',\n",
       " 'https://insights.blackcoffer.com/will-machine-replace-the-human-in-the-future-of-work/',\n",
       " 'https://insights.blackcoffer.com/will-ai-replace-us-or-work-with-us/',\n",
       " 'https://insights.blackcoffer.com/man-and-machines-together-machines-are-more-diligent-than-humans-blackcoffe/',\n",
       " 'https://insights.blackcoffer.com/in-future-or-in-upcoming-years-humans-and-machines-are-going-to-work-together-in-every-field-of-work/',\n",
       " 'https://insights.blackcoffer.com/how-neural-networks-can-be-applied-in-various-areas-in-the-future/',\n",
       " 'https://insights.blackcoffer.com/how-machine-learning-will-affect-your-business/',\n",
       " 'https://insights.blackcoffer.com/deep-learning-impact-on-areas-of-e-learning/',\n",
       " 'https://insights.blackcoffer.com/how-to-protect-future-data-and-its-privacy-blackcoffer/',\n",
       " 'https://insights.blackcoffer.com/how-machines-ai-automations-and-robo-human-are-effective-in-finance-and-banking/',\n",
       " 'https://insights.blackcoffer.com/ai-human-robotics-machine-future-planet-blackcoffer-thinking-jobs-workplace/',\n",
       " 'https://insights.blackcoffer.com/how-ai-will-change-the-world-blackcoffer/',\n",
       " 'https://insights.blackcoffer.com/future-of-work-how-ai-has-entered-the-workplace/',\n",
       " 'https://insights.blackcoffer.com/ai-tool-alexa-google-assistant-finance-banking-tool-future/',\n",
       " 'https://insights.blackcoffer.com/ai-healthcare-revolution-ml-technology-algorithm-google-analytics-industrialrevolution/',\n",
       " 'https://insights.blackcoffer.com/all-you-need-to-know-about-online-marketing/',\n",
       " 'https://insights.blackcoffer.com/evolution-of-advertising-industry/',\n",
       " 'https://insights.blackcoffer.com/how-data-analytics-can-help-your-business-respond-to-the-impact-of-covid-19/',\n",
       " 'https://insights.blackcoffer.com/covid-19-environmental-impact-for-the-future/',\n",
       " 'https://insights.blackcoffer.com/environmental-impact-of-the-covid-19-pandemic-lesson-for-the-future/',\n",
       " 'https://insights.blackcoffer.com/how-data-analytics-and-ai-are-used-to-halt-the-covid-19-pandemic/',\n",
       " 'https://insights.blackcoffer.com/difference-between-artificial-intelligence-machine-learning-statistics-and-data-mining/',\n",
       " 'https://insights.blackcoffer.com/how-python-became-the-first-choice-for-data-science/',\n",
       " 'https://insights.blackcoffer.com/how-google-fit-measure-heart-and-respiratory-rates-using-a-phone/',\n",
       " 'https://insights.blackcoffer.com/what-is-the-future-of-mobile-apps/',\n",
       " 'https://insights.blackcoffer.com/impact-of-ai-in-health-and-medicine/',\n",
       " 'https://insights.blackcoffer.com/telemedicine-what-patients-like-and-dislike-about-it/',\n",
       " 'https://insights.blackcoffer.com/how-we-forecast-future-technologies/',\n",
       " 'https://insights.blackcoffer.com/can-robots-tackle-late-life-loneliness/',\n",
       " 'https://insights.blackcoffer.com/embedding-care-robots-into-society-socio-technical-considerations/',\n",
       " 'https://insights.blackcoffer.com/management-challenges-for-future-digitalization-of-healthcare-services/',\n",
       " 'https://insights.blackcoffer.com/are-we-any-closer-to-preventing-a-nuclear-holocaust/',\n",
       " 'https://insights.blackcoffer.com/will-technology-eliminate-the-need-for-animal-testing-in-drug-development/',\n",
       " 'https://insights.blackcoffer.com/will-we-ever-understand-the-nature-of-consciousness/',\n",
       " 'https://insights.blackcoffer.com/will-we-ever-colonize-outer-space/',\n",
       " 'https://insights.blackcoffer.com/what-is-the-chance-homo-sapiens-will-survive-for-the-next-500-years/',\n",
       " 'https://insights.blackcoffer.com/why-does-your-business-need-a-chatbot/',\n",
       " 'https://insights.blackcoffer.com/how-you-lead-a-project-or-a-team-without-any-technical-expertise/',\n",
       " 'https://insights.blackcoffer.com/can-you-be-great-leader-without-technical-expertise/',\n",
       " 'https://insights.blackcoffer.com/how-does-artificial-intelligence-affect-the-environment/',\n",
       " 'https://insights.blackcoffer.com/how-to-overcome-your-fear-of-making-mistakes-2/',\n",
       " 'https://insights.blackcoffer.com/is-perfection-the-greatest-enemy-of-productivity/',\n",
       " 'https://insights.blackcoffer.com/global-financial-crisis-2008-causes-effects-and-its-solution/',\n",
       " 'https://insights.blackcoffer.com/gender-diversity-and-equality-in-the-tech-industry/',\n",
       " 'https://insights.blackcoffer.com/how-to-overcome-your-fear-of-making-mistakes/',\n",
       " 'https://insights.blackcoffer.com/how-small-business-can-survive-the-coronavirus-crisis/',\n",
       " 'https://insights.blackcoffer.com/impacts-of-covid-19-on-vegetable-vendors-and-food-stalls/',\n",
       " 'https://insights.blackcoffer.com/impacts-of-covid-19-on-vegetable-vendors/',\n",
       " 'https://insights.blackcoffer.com/impact-of-covid-19-pandemic-on-tourism-aviation-industries/',\n",
       " 'https://insights.blackcoffer.com/impact-of-covid-19-pandemic-on-sports-events-around-the-world/',\n",
       " 'https://insights.blackcoffer.com/changing-landscape-and-emerging-trends-in-the-indian-it-ites-industry/',\n",
       " 'https://insights.blackcoffer.com/online-gaming-adolescent-online-gaming-effects-demotivated-depression-musculoskeletal-and-psychosomatic-symptoms/',\n",
       " 'https://insights.blackcoffer.com/human-rights-outlook/',\n",
       " 'https://insights.blackcoffer.com/how-voice-search-makes-your-business-a-successful-business/',\n",
       " 'https://insights.blackcoffer.com/how-the-covid-19-crisis-is-redefining-jobs-and-services/',\n",
       " 'https://insights.blackcoffer.com/how-to-increase-social-media-engagement-for-marketers/',\n",
       " 'https://insights.blackcoffer.com/impacts-of-covid-19-on-streets-sides-food-stalls/',\n",
       " 'https://insights.blackcoffer.com/coronavirus-impact-on-energy-markets-2/',\n",
       " 'https://insights.blackcoffer.com/coronavirus-impact-on-the-hospitality-industry-5/',\n",
       " 'https://insights.blackcoffer.com/lessons-from-the-past-some-key-learnings-relevant-to-the-coronavirus-crisis-4/',\n",
       " 'https://insights.blackcoffer.com/estimating-the-impact-of-covid-19-on-the-world-of-work-2/',\n",
       " 'https://insights.blackcoffer.com/estimating-the-impact-of-covid-19-on-the-world-of-work-3/',\n",
       " 'https://insights.blackcoffer.com/travel-and-tourism-outlook/',\n",
       " 'https://insights.blackcoffer.com/gaming-disorder-and-effects-of-gaming-on-health/',\n",
       " 'https://insights.blackcoffer.com/what-is-the-repercussion-of-the-environment-due-to-the-covid-19-pandemic-situation/',\n",
       " 'https://insights.blackcoffer.com/what-is-the-repercussion-of-the-environment-due-to-the-covid-19-pandemic-situation-2/',\n",
       " 'https://insights.blackcoffer.com/impact-of-covid-19-pandemic-on-office-space-and-co-working-industries/',\n",
       " 'https://insights.blackcoffer.com/contribution-of-handicrafts-visual-arts-literature-in-the-indian-economy/',\n",
       " 'https://insights.blackcoffer.com/how-covid-19-is-impacting-payment-preferences/',\n",
       " 'https://insights.blackcoffer.com/how-will-covid-19-affect-the-world-of-work-2/',\n",
       " 'https://insights.blackcoffer.com/lessons-from-the-past-some-key-learnings-relevant-to-the-coronavirus-crisis/',\n",
       " 'https://insights.blackcoffer.com/covid-19-how-have-countries-been-responding/',\n",
       " 'https://insights.blackcoffer.com/coronavirus-impact-on-the-hospitality-industry-2/',\n",
       " 'https://insights.blackcoffer.com/how-will-covid-19-affect-the-world-of-work-3/',\n",
       " 'https://insights.blackcoffer.com/coronavirus-impact-on-the-hospitality-industry-3/',\n",
       " 'https://insights.blackcoffer.com/estimating-the-impact-of-covid-19-on-the-world-of-work/',\n",
       " 'https://insights.blackcoffer.com/covid-19-how-have-countries-been-responding-2/',\n",
       " 'https://insights.blackcoffer.com/how-will-covid-19-affect-the-world-of-work-4/',\n",
       " 'https://insights.blackcoffer.com/lessons-from-the-past-some-key-learnings-relevant-to-the-coronavirus-crisis-2/',\n",
       " 'https://insights.blackcoffer.com/lessons-from-the-past-some-key-learnings-relevant-to-the-coronavirus-crisis-3/',\n",
       " 'https://insights.blackcoffer.com/coronavirus-impact-on-the-hospitality-industry-4/',\n",
       " 'https://insights.blackcoffer.com/why-scams-like-nirav-modi-happen-with-indian-banks/',\n",
       " 'https://insights.blackcoffer.com/impact-of-covid-19-on-the-global-economy/',\n",
       " 'https://insights.blackcoffer.com/impact-of-covid-19coronavirus-on-the-indian-economy-2/',\n",
       " 'https://insights.blackcoffer.com/impact-of-covid-19-on-the-global-economy-2/',\n",
       " 'https://insights.blackcoffer.com/impact-of-covid-19-coronavirus-on-the-indian-economy-3/',\n",
       " 'https://insights.blackcoffer.com/should-celebrities-be-allowed-to-join-politics/',\n",
       " 'https://insights.blackcoffer.com/how-prepared-is-india-to-tackle-a-possible-covid-19-outbreak/',\n",
       " 'https://insights.blackcoffer.com/how-will-covid-19-affect-the-world-of-work/',\n",
       " 'https://insights.blackcoffer.com/controversy-as-a-marketing-strategy/',\n",
       " 'https://insights.blackcoffer.com/coronavirus-impact-on-the-hospitality-industry/',\n",
       " 'https://insights.blackcoffer.com/coronavirus-impact-on-energy-markets/',\n",
       " 'https://insights.blackcoffer.com/what-are-the-key-policies-that-will-mitigate-the-impacts-of-covid-19-on-the-world-of-work/',\n",
       " 'https://insights.blackcoffer.com/marketing-drives-results-with-a-focus-on-problems/',\n",
       " 'https://insights.blackcoffer.com/continued-demand-for-sustainability/',\n",
       " 'https://insights.blackcoffer.com/coronavirus-disease-covid-19-effect-the-impact-and-role-of-mass-media-during-the-pandemic/',\n",
       " 'https://insights.blackcoffer.com/should-people-wear-fabric-gloves-seeking-evidence-regarding-the-differential-transfer-of-covid-19-or-coronaviruses-generally-between-surfaces/',\n",
       " 'https://insights.blackcoffer.com/why-is-there-a-severe-immunological-and-inflammatory-explosion-in-those-affected-by-sarms-covid-19/',\n",
       " 'https://insights.blackcoffer.com/what-do-you-think-is-the-lesson-or-lessons-to-be-learned-with-covid-19/',\n",
       " 'https://insights.blackcoffer.com/coronavirus-the-unexpected-challenge-for-the-european-union/',\n",
       " 'https://insights.blackcoffer.com/industrial-revolution-4-0-pros-and-cons/',\n",
       " 'https://insights.blackcoffer.com/impact-of-covid-19-coronavirus-on-the-indian-economy/',\n",
       " 'https://insights.blackcoffer.com/impact-of-covid-19-coronavirus-on-the-indian-economy-2/',\n",
       " 'https://insights.blackcoffer.com/impact-of-covid-19coronavirus-on-the-indian-economy/',\n",
       " 'https://insights.blackcoffer.com/impact-of-covid-19-coronavirus-on-the-global-economy/',\n",
       " 'https://insights.blackcoffer.com/ensuring-growth-through-insurance-technology/',\n",
       " 'https://insights.blackcoffer.com/blockchain-in-fintech/',\n",
       " 'https://insights.blackcoffer.com/blockchain-for-payments/',\n",
       " 'https://insights.blackcoffer.com/the-future-of-investing/',\n",
       " 'https://insights.blackcoffer.com/big-data-analytics-in-healthcare/',\n",
       " 'https://insights.blackcoffer.com/business-analytics-in-the-healthcare-industry/',\n",
       " 'https://insights.blackcoffer.com/challenges-and-opportunities-of-big-data-in-healthcare/']"
      ]
     },
     "execution_count": 29,
     "metadata": {},
     "output_type": "execute_result"
    }
   ],
   "source": [
    "links = [url for url in df['URL']]\n",
    "links"
   ]
  },
  {
   "cell_type": "code",
   "execution_count": 30,
   "id": "5cfce383",
   "metadata": {},
   "outputs": [],
   "source": [
    "text = []\n",
    "for url in links:\n",
    "    text.append(requests.get(url,headers={\"User-Agent\": \"XY\"}))"
   ]
  },
  {
   "cell_type": "code",
   "execution_count": null,
   "id": "2722835b",
   "metadata": {},
   "outputs": [],
   "source": []
  },
  {
   "cell_type": "code",
   "execution_count": 31,
   "id": "2e2961a1",
   "metadata": {},
   "outputs": [],
   "source": [
    "for i in range(len(text)):\n",
    "    text[i] = bfs.BeautifulSoup(text[i].content,'html.parser')"
   ]
  },
  {
   "cell_type": "code",
   "execution_count": 25,
   "id": "c50781a4",
   "metadata": {},
   "outputs": [],
   "source": []
  },
  {
   "cell_type": "code",
   "execution_count": 26,
   "id": "fbac59b1",
   "metadata": {},
   "outputs": [
    {
     "data": {
      "text/plain": [
       "['No content found']"
      ]
     },
     "execution_count": 26,
     "metadata": {},
     "output_type": "execute_result"
    }
   ],
   "source": []
  },
  {
   "cell_type": "code",
   "execution_count": null,
   "id": "60c80d41",
   "metadata": {},
   "outputs": [],
   "source": [
    "for i in range(len(articles)):\n",
    "    articles[i]= articles[i].replace('\\n','')"
   ]
  },
  {
   "cell_type": "code",
   "execution_count": null,
   "id": "1d2963e7",
   "metadata": {},
   "outputs": [],
   "source": [
    "stop_words = list(set(stopwords.words('english')))"
   ]
  },
  {
   "cell_type": "code",
   "execution_count": null,
   "id": "5828ccb6",
   "metadata": {},
   "outputs": [],
   "source": [
    "stop_words"
   ]
  },
  {
   "cell_type": "code",
   "execution_count": null,
   "id": "ca0c387b",
   "metadata": {},
   "outputs": [],
   "source": [
    "sentences = []\n",
    "for article in articles:\n",
    "    sentences.append(len(sent_tokenize(article)))"
   ]
  },
  {
   "cell_type": "code",
   "execution_count": null,
   "id": "2a036b74",
   "metadata": {},
   "outputs": [],
   "source": [
    "cleaned_articles = [' ']*len(articles)"
   ]
  },
  {
   "cell_type": "code",
   "execution_count": null,
   "id": "6852307d",
   "metadata": {},
   "outputs": [],
   "source": [
    "for i in range(len(articles)):\n",
    "    for w in stop_words:\n",
    "        cleaned_articles[i]= articles[i].replace(' '+w+' ',' ').replace('?','').replace('.','').replace(',','').replace('!','')\n",
    "    "
   ]
  },
  {
   "cell_type": "code",
   "execution_count": 16,
   "id": "77ebeb3c",
   "metadata": {},
   "outputs": [],
   "source": []
  },
  {
   "cell_type": "code",
   "execution_count": null,
   "id": "66c2437e",
   "metadata": {},
   "outputs": [],
   "source": []
  }
 ],
 "metadata": {
  "kernelspec": {
   "display_name": "Python 3 (ipykernel)",
   "language": "python",
   "name": "python3"
  },
  "language_info": {
   "codemirror_mode": {
    "name": "ipython",
    "version": 3
   },
   "file_extension": ".py",
   "mimetype": "text/x-python",
   "name": "python",
   "nbconvert_exporter": "python",
   "pygments_lexer": "ipython3",
   "version": "3.9.7"
  }
 },
 "nbformat": 4,
 "nbformat_minor": 5
}
