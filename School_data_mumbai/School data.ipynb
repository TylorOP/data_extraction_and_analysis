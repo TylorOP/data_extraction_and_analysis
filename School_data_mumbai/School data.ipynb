{
 "cells": [
  {
   "cell_type": "code",
   "execution_count": 18,
   "id": "971d3d83",
   "metadata": {},
   "outputs": [
    {
     "name": "stdout",
     "output_type": "stream",
     "text": [
      "Data saved to Christ Church School+school+Mumbai_results.xlsx\n"
     ]
    }
   ],
   "source": [
    "import requests\n",
    "from bs4 import BeautifulSoup\n",
    "import pandas as pd\n",
    "\n",
    "def scrape_school_data(query):\n",
    "    # Define the URL for Google search\n",
    "    base_url = \"https://www.google.com/search?q=\"\n",
    "    location = \"Mumbai\"\n",
    "    query = f\"{query}+school+{location}\"\n",
    "\n",
    "    # Send an HTTP request with the specified User-Agent\n",
    "    headers = {\n",
    "        'User-Agent': 'Mozilla/5.0 (Windows NT 10.0; Win64; x64) AppleWebKit/537.36 (KHTML, like Gecko) Chrome/116.0.5845.180 Safari/537.36'\n",
    "    }\n",
    "    response = requests.get(base_url + query, headers=headers)\n",
    "\n",
    "    if response.status_code == 200:\n",
    "        # Parse the HTML content\n",
    "        soup = BeautifulSoup(response.text, \"html.parser\")\n",
    "\n",
    "        # Create a list to store the data\n",
    "        data_list = []\n",
    "\n",
    "        # Extract and append relevant information to the list\n",
    "        results = soup.find_all(\"div\", class_=\"tF2Cxc\")\n",
    "        for result in results:\n",
    "            title = result.find(\"h3\").text\n",
    "            snippet_element = result.find(\"div\", class_=\"IsZvec\")\n",
    "            snippet = snippet_element.text if snippet_element else \"Snippet not found\"\n",
    "            data_list.append({\"Title\": title, \"Snippet\": snippet})\n",
    "\n",
    "        # Create a DataFrame from the data\n",
    "        df = pd.DataFrame(data_list)\n",
    "\n",
    "        # Save the DataFrame to an Excel file\n",
    "        excel_filename = f\"{query}_results.xlsx\"\n",
    "        df.to_excel(excel_filename, index=False)\n",
    "        print(f\"Data saved to {excel_filename}\")\n",
    "\n",
    "    else:\n",
    "        print(\"Failed to retrieve data. Status code:\", response.status_code)\n",
    "\n",
    "# Usage example\n",
    "search_query = \"Christ Church School\"\n",
    "scrape_school_data(search_query)\n"
   ]
  },
  {
   "cell_type": "code",
   "execution_count": null,
   "id": "45ed0efa",
   "metadata": {},
   "outputs": [],
   "source": []
  },
  {
   "cell_type": "code",
   "execution_count": 19,
   "id": "c497b2fc",
   "metadata": {},
   "outputs": [
    {
     "name": "stdout",
     "output_type": "stream",
     "text": [
      "Data saved to Christ Church School+school+Mumbai_results.xlsx\n"
     ]
    }
   ],
   "source": [
    "import requests\n",
    "from bs4 import BeautifulSoup\n",
    "import pandas as pd\n",
    "\n",
    "def scrape_school_data(query):\n",
    "    # Define the URL for Google search\n",
    "    base_url = \"https://www.google.com/search?q=\"\n",
    "    location = \"Mumbai\"\n",
    "    query = f\"{query}+school+{location}\"\n",
    "\n",
    "    # Send an HTTP request with the specified User-Agent\n",
    "    headers = {\n",
    "        'User-Agent': 'Mozilla/5.0 (Windows NT 10.0; Win64; x64) AppleWebKit/537.36 (KHTML, like Gecko) Chrome/116.0.5845.180 Safari/537.36'\n",
    "    }\n",
    "    response = requests.get(base_url + query, headers=headers)\n",
    "\n",
    "    if response.status_code == 200:\n",
    "        # Parse the HTML content\n",
    "        soup = BeautifulSoup(response.text, \"html.parser\")\n",
    "\n",
    "        # Create a list to store the data\n",
    "        data_list = []\n",
    "\n",
    "        # Extract and append relevant information to the list\n",
    "        results = soup.find_all(\"div\", class_=\"tF2Cxc\")\n",
    "        for result in results:\n",
    "            # Extract the school name from the title\n",
    "            title = result.find(\"h3\").text\n",
    "\n",
    "            # Visit the school's website (if available) and scrape phone and email\n",
    "            link = result.find(\"a\", href=True)['href']\n",
    "            school_info = get_school_info(link)\n",
    "\n",
    "            # Append the data to the list\n",
    "            data_list.append({\n",
    "                \"School Name\": title,\n",
    "                \"Phone Number\": school_info[\"Phone Number\"],\n",
    "                \"Email Address\": school_info[\"Email Address\"]\n",
    "            })\n",
    "\n",
    "        # Create a DataFrame from the data\n",
    "        df = pd.DataFrame(data_list)\n",
    "\n",
    "        # Save the DataFrame to an Excel file\n",
    "        excel_filename = f\"{query}_results.xlsx\"\n",
    "        df.to_excel(excel_filename, index=False)\n",
    "        print(f\"Data saved to {excel_filename}\")\n",
    "\n",
    "    else:\n",
    "        print(\"Failed to retrieve data. Status code:\", response.status_code)\n",
    "\n",
    "def get_school_info(url):\n",
    "    # Function to visit the school's website and scrape phone and email (customize as needed)\n",
    "    # You should implement logic to extract phone number and email from the school's website\n",
    "    # This example assumes you are scraping from a sample website.\n",
    "    phone_number = \"123-456-7890\"\n",
    "    email_address = \"example@example.com\"\n",
    "    \n",
    "    return {\"Phone Number\": phone_number, \"Email Address\": email_address}\n",
    "\n",
    "# Usage example\n",
    "search_query = \"Christ Church School\"\n",
    "scrape_school_data(search_query)\n"
   ]
  },
  {
   "cell_type": "code",
   "execution_count": null,
   "id": "17c3969d",
   "metadata": {},
   "outputs": [],
   "source": []
  }
 ],
 "metadata": {
  "kernelspec": {
   "display_name": "Python 3 (ipykernel)",
   "language": "python",
   "name": "python3"
  },
  "language_info": {
   "codemirror_mode": {
    "name": "ipython",
    "version": 3
   },
   "file_extension": ".py",
   "mimetype": "text/x-python",
   "name": "python",
   "nbconvert_exporter": "python",
   "pygments_lexer": "ipython3",
   "version": "3.9.7"
  }
 },
 "nbformat": 4,
 "nbformat_minor": 5
}
